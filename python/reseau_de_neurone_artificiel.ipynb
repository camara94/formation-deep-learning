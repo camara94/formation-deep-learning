{
 "cells": [
  {
   "cell_type": "markdown",
   "id": "44dfa553-0d49-4120-a519-53bdfa7e8951",
   "metadata": {},
   "source": [
    "# Implementation des Réseaux de Neurone Artificiel"
   ]
  },
  {
   "cell_type": "code",
   "execution_count": 74,
   "id": "0f9be449-d291-4e0b-bf62-58cfbceb59c8",
   "metadata": {},
   "outputs": [],
   "source": [
    "import matplotlib.pyplot as plt\n",
    "import seaborn as sns\n",
    "import numpy as np\n",
    "from sklearn.datasets import make_blobs"
   ]
  },
  {
   "cell_type": "markdown",
   "id": "4ad9305b-710b-4c83-bb76-b647125eff9c",
   "metadata": {},
   "source": [
    "## Création du Dataset"
   ]
  },
  {
   "cell_type": "code",
   "execution_count": 75,
   "id": "9993b8d0-667d-4626-b943-0f8063856e0b",
   "metadata": {},
   "outputs": [
    {
     "name": "stdout",
     "output_type": "stream",
     "text": [
      "dimension de X:(100, 2)\n",
      "dimension de y:(100, 1)\n"
     ]
    },
    {
     "data": {
      "image/png": "[encoded data removed]",
      "text/plain": [
       "<Figure size 432x288 with 1 Axes>"
      ]
     },
     "metadata": {
      "needs_background": "light"
     },
     "output_type": "display_data"
    }
   ],
   "source": [
    "X, y = make_blobs(n_samples=100, centers=2, n_features=2, random_state=0)\n",
    "y = y.reshape((y.shape[0], 1))\n",
    "               \n",
    "print(f'dimension de X:{X.shape}')\n",
    "print(f'dimension de y:{y.shape}')\n",
    "\n",
    "plt.scatter(X[:, 0], X[:, 1], c=y, cmap='summer');"
   ]
  },
  {
   "cell_type": "markdown",
   "id": "2beb828e-c907-46e6-9c15-ec2af880a852",
   "metadata": {},
   "source": [
    "## Création de la fonction d'initialisation\n",
    "![image](84.png)"
   ]
  },
  {
   "cell_type": "code",
   "execution_count": 76,
   "id": "2563343d-174d-42e1-af7c-aa2027a5f9f8",
   "metadata": {},
   "outputs": [],
   "source": [
    "def initialisation(x):\n",
    "    w = np.random.randn(x.shape[1], 1)\n",
    "    b = np.random.randn(1)\n",
    "    return (w, b)"
   ]
  },
  {
   "cell_type": "markdown",
   "id": "7b61a05d-c079-493b-a5f4-d97656def584",
   "metadata": {},
   "source": [
    "## Testons la Fonction d'Initialisation"
   ]
  },
  {
   "cell_type": "code",
   "execution_count": 77,
   "id": "79fd44eb-99e4-47ff-96b7-d874da91f3e1",
   "metadata": {},
   "outputs": [
    {
     "name": "stdout",
     "output_type": "stream",
     "text": [
      "La taille de w: (2, 1)\n",
      "La taille de b: (1,)\n",
      "w: [[-0.83807659]\n",
      " [-0.74310966]]\n",
      "b:[-0.38307103]\n"
     ]
    }
   ],
   "source": [
    "w, b = initialisation(X)\n",
    "print(f'La taille de w: {w.shape}')\n",
    "print(f'La taille de b: {b.shape}')\n",
    "\n",
    "print(f'w: {w}\\nb:{b}')"
   ]
  },
  {
   "cell_type": "markdown",
   "id": "fbd03a91-71a3-4c00-ac05-822ca0b50101",
   "metadata": {},
   "source": [
    "## Création du Modèle\n",
    "![image](model.png)"
   ]
  },
  {
   "cell_type": "markdown",
   "id": "1f0168a1-123c-4345-b20d-0879b3903682",
   "metadata": {},
   "source": [
    "### Création de la Fonction Sigmoïd"
   ]
  },
  {
   "cell_type": "code",
   "execution_count": 78,
   "id": "b6e54792-f2a6-42ca-9b48-0f884f3bb989",
   "metadata": {},
   "outputs": [],
   "source": [
    "def sigmoid(z):\n",
    "    return 1/(1+np.exp(-z))"
   ]
  },
  {
   "cell_type": "code",
   "execution_count": 79,
   "id": "78fceb89-321b-4ee0-816f-70c9290f290f",
   "metadata": {},
   "outputs": [],
   "source": [
    "def model(x, w, b):\n",
    "    Z = x.dot(w) + b\n",
    "    A = sigmoid(Z)\n",
    "    return A"
   ]
  },
  {
   "cell_type": "markdown",
   "id": "897875a5-32d0-430a-89bb-aaaa2d31137b",
   "metadata": {},
   "source": [
    "## Testons le Modèle"
   ]
  },
  {
   "cell_type": "code",
   "execution_count": 80,
   "id": "40258df5-126e-48dd-ab71-2e00db441d8e",
   "metadata": {},
   "outputs": [
    {
     "name": "stdout",
     "output_type": "stream",
     "text": [
      "Shape de A: (100, 1)\n"
     ]
    }
   ],
   "source": [
    "A = model(X, w, b)\n",
    "print(f'Shape de A: {A.shape}')"
   ]
  },
  {
   "cell_type": "markdown",
   "id": "8817d492-497b-467a-8898-c6262a83e581",
   "metadata": {},
   "source": [
    "## La Fonction Coût de Notre Modèle\n",
    "![image](fonction_cout.png)"
   ]
  },
  {
   "cell_type": "code",
   "execution_count": 100,
   "id": "49b43e89-9b00-452f-b37c-782250789a21",
   "metadata": {},
   "outputs": [],
   "source": [
    "def log_loss(A, y):\n",
    "    L = (1/len(y)) * np.sum(-y * np.log(A) - (1-y) * np.log(1-A))\n",
    "    return L"
   ]
  },
  {
   "cell_type": "code",
   "execution_count": 101,
   "id": "1a532dde-f864-4c06-af3d-5777df93669b",
   "metadata": {},
   "outputs": [],
   "source": [
    "loss = log_loss(A, y)"
   ]
  },
  {
   "cell_type": "code",
   "execution_count": 102,
   "id": "233df620-8c39-47a2-8ce8-cb0c6ed9d09c",
   "metadata": {},
   "outputs": [
    {
     "data": {
      "text/plain": [
       "1.5071607021568754"
      ]
     },
     "execution_count": 102,
     "metadata": {},
     "output_type": "execute_result"
    }
   ],
   "source": [
    "loss"
   ]
  },
  {
   "cell_type": "markdown",
   "id": "da80c2b2-771f-4805-aaf6-d31441e839a5",
   "metadata": {},
   "source": [
    "## Les Gradients de Notre Modèle\n",
    "![image](gradients.png)"
   ]
  },
  {
   "cell_type": "code",
   "execution_count": 103,
   "id": "e7ad3092-0104-4365-b090-5e3cea72fb3b",
   "metadata": {},
   "outputs": [],
   "source": [
    "def gradients(X, A, y):\n",
    "    dw = (1 / len(y)) * np.dot(X.T, (A-y))\n",
    "    db = (1 / len(y)) * np.sum( A - y )\n",
    "    \n",
    "    return (dw, db)"
   ]
  },
  {
   "cell_type": "markdown",
   "id": "e5f97d24-9afe-4eeb-8ae3-018044578724",
   "metadata": {},
   "source": [
    "## Testons les Gradients"
   ]
  },
  {
   "cell_type": "code",
   "execution_count": 104,
   "id": "88e4e373-db5a-4fb6-bdc3-ea1a30e1a938",
   "metadata": {},
   "outputs": [
    {
     "name": "stdout",
     "output_type": "stream",
     "text": [
      "Shape de dw: (2, 1)\n",
      "db: -0.4499216080337724\n"
     ]
    }
   ],
   "source": [
    "dw, db = gradients(X, A, y)\n",
    "print(f'Shape de dw: {dw.shape}\\ndb: {db}')"
   ]
  },
  {
   "cell_type": "code",
   "execution_count": 105,
   "id": "35cc159b-74cb-4cb0-b85d-bda0acbb7467",
   "metadata": {},
   "outputs": [
    {
     "data": {
      "text/plain": [
       "array([[-0.95515367],\n",
       "       [-0.4948803 ]])"
      ]
     },
     "execution_count": 105,
     "metadata": {},
     "output_type": "execute_result"
    }
   ],
   "source": [
    "dw"
   ]
  },
  {
   "cell_type": "markdown",
   "id": "efbbe2ec-405b-4c08-ac3e-33ff82a69531",
   "metadata": {},
   "source": [
    "## Mise à Jour des Gradients\n",
    "\n",
    "![image](update.png)"
   ]
  },
  {
   "cell_type": "code",
   "execution_count": 106,
   "id": "b35b108a-1ce0-4fce-a33c-20d844e6bc1a",
   "metadata": {},
   "outputs": [],
   "source": [
    "def update(dw, db, w, b, learning_rate):\n",
    "    w = w + learning_rate * dw\n",
    "    b = b + learning_rate * db\n",
    "    return (w, b)"
   ]
  },
  {
   "cell_type": "markdown",
   "id": "22c35050-913c-4e8f-b5fc-d5d415929a7d",
   "metadata": {},
   "source": [
    "## Testons la Mise à Jour des Gradients"
   ]
  },
  {
   "cell_type": "code",
   "execution_count": 107,
   "id": "593ea021-682c-4cb7-96f1-c59e2f09f549",
   "metadata": {},
   "outputs": [
    {
     "data": {
      "text/plain": [
       "(array([[-0.88583427],\n",
       "        [-0.76785368]]),\n",
       " array([-0.40556711]))"
      ]
     },
     "execution_count": 107,
     "metadata": {},
     "output_type": "execute_result"
    }
   ],
   "source": [
    "update(dw, db, w, b, 0.05)"
   ]
  },
  {
   "cell_type": "markdown",
   "id": "57450b09-e12c-4316-b734-d676ebef1b35",
   "metadata": {},
   "source": [
    "## Entrainement du Modèle\n",
    "![image](train_cnn.png)"
   ]
  },
  {
   "cell_type": "code",
   "execution_count": 115,
   "id": "5222e7c6-6f38-447e-8814-3f150fe55ca0",
   "metadata": {},
   "outputs": [],
   "source": [
    "def train_custom_cnn(X, y, learning = 0.01, epoch=100):\n",
    "    # Initialisation des paramètres\n",
    "    w, b = initialisation(X)\n",
    "    \n",
    "    ## Les erreurs\n",
    "    loss = []\n",
    "    # nombre d'iteration pour l'apprentissage\n",
    "    for i in range(epoch):\n",
    "        \n",
    "        # Foward propagation\n",
    "        A = model(X, w, b)\n",
    "        \n",
    "        # Les pertes et la fonction coût\n",
    "        loss.append(log_loss(A, y))\n",
    "        \n",
    "        # Le calcul des gradients\n",
    "        dw, db = gradients(A, X, y)\n",
    "        \n",
    "        # Mise à des erreurs pour ameliorer les performance du modèle\n",
    "        w, b = update(dw, db, w, b, learning)\n",
    "        \n",
    "    return loss"
   ]
  },
  {
   "cell_type": "markdown",
   "id": "dd04ec14-8fab-46ad-9754-144974f45a4e",
   "metadata": {},
   "source": [
    "## Testons Notre Modèle"
   ]
  },
  {
   "cell_type": "code",
   "execution_count": 122,
   "id": "1c8135ea-ba87-4621-a3bb-9495bb11f6f0",
   "metadata": {},
   "outputs": [],
   "source": [
    "erreur = train_custom_cnn(X, y, learning=0.01)"
   ]
  },
  {
   "cell_type": "code",
   "execution_count": 123,
   "id": "8255502d-1bca-4eea-91e2-26cdc0c019e4",
   "metadata": {},
   "outputs": [
    {
     "data": {
      "text/plain": [
       "[<matplotlib.lines.Line2D at 0x1aef3669280>]"
      ]
     },
     "execution_count": 123,
     "metadata": {},
     "output_type": "execute_result"
    },
    {
     "data": {
      "image/png": "[encoded data removed]",
      "text/plain": [
       "<Figure size 432x288 with 1 Axes>"
      ]
     },
     "metadata": {
      "needs_background": "light"
     },
     "output_type": "display_data"
    }
   ],
   "source": [
    "plt.plot(erreur)"
   ]
  },
  {
   "cell_type": "code",
   "execution_count": null,
   "id": "6e1bc7aa-87ff-4b06-8558-68ed1b1c6eb8",
   "metadata": {},
   "outputs": [],
   "source": []
  },
  {
   "cell_type": "code",
   "execution_count": null,
   "id": "b928e520-65be-471f-88ae-dd65b9b6ef85",
   "metadata": {},
   "outputs": [],
   "source": []
  },
  {
   "cell_type": "code",
   "execution_count": null,
   "id": "a403ac2d-c385-46f5-a7f4-bea30ea93d2a",
   "metadata": {},
   "outputs": [],
   "source": []
  }
 ],
 "metadata": {
  "kernelspec": {
   "display_name": "Python 3",
   "language": "python",
   "name": "python3"
  },
  "language_info": {
   "codemirror_mode": {
    "name": "ipython",
    "version": 3
   },
   "file_extension": ".py",
   "mimetype": "text/x-python",
   "name": "python",
   "nbconvert_exporter": "python",
   "pygments_lexer": "ipython3",
   "version": "3.8.5"
  }
 },
 "nbformat": 4,
 "nbformat_minor": 5
}
