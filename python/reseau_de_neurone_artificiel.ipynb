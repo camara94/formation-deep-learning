{
 "cells": [
  {
   "cell_type": "markdown",
   "id": "44dfa553-0d49-4120-a519-53bdfa7e8951",
   "metadata": {},
   "source": [
    "# Implementation des Réseaux de Neurone Artificiel"
   ]
  },
  {
   "cell_type": "code",
   "execution_count": null,
   "id": "0f9be449-d291-4e0b-bf62-58cfbceb59c8",
   "metadata": {},
   "outputs": [],
   "source": [
    "import matplotlib.pyplot as plt\n",
    "import seaborn as sns\n",
    "import numpy as np"
   ]
  }
 ],
 "metadata": {
  "kernelspec": {
   "display_name": "Python 3",
   "language": "python",
   "name": "python3"
  },
  "language_info": {
   "codemirror_mode": {
    "name": "ipython",
    "version": 3
   },
   "file_extension": ".py",
   "mimetype": "text/x-python",
   "name": "python",
   "nbconvert_exporter": "python",
   "pygments_lexer": "ipython3",
   "version": "3.8.5"
  }
 },
 "nbformat": 4,
 "nbformat_minor": 5
}
