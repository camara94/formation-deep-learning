{
 "cells": [
  {
   "cell_type": "markdown",
   "id": "44dfa553-0d49-4120-a519-53bdfa7e8951",
   "metadata": {},
   "source": [
    "# Implementation des Réseaux de Neurone Artificiel"
   ]
  },
  {
   "cell_type": "code",
   "execution_count": 40,
   "id": "0f9be449-d291-4e0b-bf62-58cfbceb59c8",
   "metadata": {},
   "outputs": [],
   "source": [
    "import matplotlib.pyplot as plt\n",
    "import seaborn as sns\n",
    "import numpy as np\n",
    "from sklearn.datasets import make_blobs"
   ]
  },
  {
   "cell_type": "markdown",
   "id": "4ad9305b-710b-4c83-bb76-b647125eff9c",
   "metadata": {},
   "source": [
    "## Création du Dataset"
   ]
  },
  {
   "cell_type": "code",
   "execution_count": 41,
   "id": "9993b8d0-667d-4626-b943-0f8063856e0b",
   "metadata": {},
   "outputs": [
    {
     "name": "stdout",
     "output_type": "stream",
     "text": [
      "dimension de X:(100, 2)\n",
      "dimension de y:(100, 1)\n"
     ]
    },
    {
     "data": {
      "image/png": "[encoded data removed]",
      "text/plain": [
       "<Figure size 432x288 with 1 Axes>"
      ]
     },
     "metadata": {
      "needs_background": "light"
     },
     "output_type": "display_data"
    }
   ],
   "source": [
    "X, y = make_blobs(n_samples=100, centers=2, n_features=2, random_state=0)\n",
    "y = y.reshape((y.shape[0], 1))\n",
    "               \n",
    "print(f'dimension de X:{X.shape}')\n",
    "print(f'dimension de y:{y.shape}')\n",
    "\n",
    "plt.scatter(X[:, 0], X[:, 1], c=y, cmap='summer');"
   ]
  },
  {
   "cell_type": "markdown",
   "id": "2beb828e-c907-46e6-9c15-ec2af880a852",
   "metadata": {},
   "source": [
    "## Création de la fonction d'initialisation\n",
    "![image](84.png)"
   ]
  },
  {
   "cell_type": "code",
   "execution_count": 42,
   "id": "2563343d-174d-42e1-af7c-aa2027a5f9f8",
   "metadata": {},
   "outputs": [],
   "source": [
    "def initialisation(x):\n",
    "    w = np.random.randn(x.shape[1], 1)\n",
    "    b = np.random.randn(1)\n",
    "    return (w, b)"
   ]
  },
  {
   "cell_type": "markdown",
   "id": "7b61a05d-c079-493b-a5f4-d97656def584",
   "metadata": {},
   "source": [
    "## Testons la Fonction d'Initialisation"
   ]
  },
  {
   "cell_type": "code",
   "execution_count": 43,
   "id": "79fd44eb-99e4-47ff-96b7-d874da91f3e1",
   "metadata": {},
   "outputs": [
    {
     "name": "stdout",
     "output_type": "stream",
     "text": [
      "La taille de w: (2, 1)\n",
      "La taille de b: (1,)\n",
      "w: [[ 0.86750878]\n",
      " [-1.23279015]]\n",
      "b:[0.89651975]\n"
     ]
    }
   ],
   "source": [
    "w, b = initialisation(X)\n",
    "print(f'La taille de w: {w.shape}')\n",
    "print(f'La taille de b: {b.shape}')\n",
    "\n",
    "print(f'w: {w}\\nb:{b}')"
   ]
  },
  {
   "cell_type": "markdown",
   "id": "fbd03a91-71a3-4c00-ac05-822ca0b50101",
   "metadata": {},
   "source": [
    "## Création du Modèle\n",
    "![image](model.png)"
   ]
  },
  {
   "cell_type": "markdown",
   "id": "1f0168a1-123c-4345-b20d-0879b3903682",
   "metadata": {},
   "source": [
    "### Création de la Fonction Sigmoïd"
   ]
  },
  {
   "cell_type": "code",
   "execution_count": 44,
   "id": "b6e54792-f2a6-42ca-9b48-0f884f3bb989",
   "metadata": {},
   "outputs": [],
   "source": [
    "def sigmoid(z):\n",
    "    return 1/(1+np.exp(-z))"
   ]
  },
  {
   "cell_type": "code",
   "execution_count": 45,
   "id": "78fceb89-321b-4ee0-816f-70c9290f290f",
   "metadata": {},
   "outputs": [],
   "source": [
    "def model(x, w, b):\n",
    "    Z = x.dot(w) + b\n",
    "    A = sigmoid(Z)\n",
    "    return A"
   ]
  },
  {
   "cell_type": "markdown",
   "id": "897875a5-32d0-430a-89bb-aaaa2d31137b",
   "metadata": {},
   "source": [
    "## Testons le Modèle"
   ]
  },
  {
   "cell_type": "code",
   "execution_count": 46,
   "id": "40258df5-126e-48dd-ab71-2e00db441d8e",
   "metadata": {},
   "outputs": [
    {
     "name": "stdout",
     "output_type": "stream",
     "text": [
      "Shape de A: (100, 1)\n"
     ]
    },
    {
     "data": {
      "text/plain": [
       "array([[8.58370231e-01],\n",
       "       [7.53460162e-01],\n",
       "       [3.65674858e-03],\n",
       "       [1.31189799e-01],\n",
       "       [9.01388990e-01],\n",
       "       [2.20218815e-01],\n",
       "       [3.58546188e-02],\n",
       "       [8.04688020e-01],\n",
       "       [2.85937228e-02],\n",
       "       [8.48894504e-01],\n",
       "       [1.70101874e-02],\n",
       "       [8.24579448e-01],\n",
       "       [1.00953407e-02],\n",
       "       [1.19695087e-02],\n",
       "       [5.86883288e-01],\n",
       "       [9.22435345e-01],\n",
       "       [9.79797646e-01],\n",
       "       [2.40720872e-02],\n",
       "       [7.31122899e-01],\n",
       "       [5.59753423e-01],\n",
       "       [1.99573069e-02],\n",
       "       [1.98065229e-02],\n",
       "       [2.74693350e-01],\n",
       "       [3.38999273e-03],\n",
       "       [9.03634713e-01],\n",
       "       [1.53987702e-02],\n",
       "       [8.74965569e-01],\n",
       "       [3.15779429e-03],\n",
       "       [2.68958480e-02],\n",
       "       [5.48947781e-01],\n",
       "       [9.62842863e-01],\n",
       "       [2.02845210e-02],\n",
       "       [6.34247088e-01],\n",
       "       [9.63169610e-01],\n",
       "       [2.52673846e-01],\n",
       "       [8.96584154e-02],\n",
       "       [7.20837874e-01],\n",
       "       [3.54677610e-01],\n",
       "       [2.58936623e-01],\n",
       "       [4.34747933e-01],\n",
       "       [6.17299378e-02],\n",
       "       [1.72264012e-02],\n",
       "       [5.82659317e-04],\n",
       "       [8.55703276e-02],\n",
       "       [1.36942467e-01],\n",
       "       [7.18003880e-01],\n",
       "       [9.51606560e-01],\n",
       "       [9.50770751e-01],\n",
       "       [3.88419101e-03],\n",
       "       [4.41201588e-03],\n",
       "       [9.09321011e-01],\n",
       "       [5.30479423e-01],\n",
       "       [9.86951833e-03],\n",
       "       [1.59200240e-02],\n",
       "       [5.49768581e-01],\n",
       "       [1.89337268e-02],\n",
       "       [4.33626505e-01],\n",
       "       [7.60627869e-01],\n",
       "       [8.78551075e-01],\n",
       "       [9.83540340e-01],\n",
       "       [5.46700752e-01],\n",
       "       [7.23309918e-02],\n",
       "       [3.04553347e-03],\n",
       "       [8.39398322e-01],\n",
       "       [5.32459920e-03],\n",
       "       [2.24801002e-01],\n",
       "       [2.64923925e-02],\n",
       "       [3.23589910e-01],\n",
       "       [8.48001676e-01],\n",
       "       [1.30404806e-01],\n",
       "       [9.64144918e-02],\n",
       "       [8.94304904e-01],\n",
       "       [8.88549746e-01],\n",
       "       [4.35740983e-02],\n",
       "       [1.05317306e-01],\n",
       "       [2.49571694e-02],\n",
       "       [4.58936123e-01],\n",
       "       [7.24856990e-01],\n",
       "       [3.03453091e-02],\n",
       "       [1.60681804e-02],\n",
       "       [1.78143169e-01],\n",
       "       [5.15149631e-02],\n",
       "       [2.84471501e-03],\n",
       "       [4.51304790e-02],\n",
       "       [7.24345320e-02],\n",
       "       [8.03390109e-03],\n",
       "       [9.29935289e-01],\n",
       "       [1.83930501e-02],\n",
       "       [7.60382139e-01],\n",
       "       [9.11318220e-01],\n",
       "       [7.73324400e-01],\n",
       "       [9.57659064e-01],\n",
       "       [3.55241834e-01],\n",
       "       [9.31472685e-01],\n",
       "       [1.17826014e-01],\n",
       "       [1.38213932e-03],\n",
       "       [9.77145697e-01],\n",
       "       [9.07924306e-01],\n",
       "       [9.01302674e-03],\n",
       "       [3.70249411e-01]])"
      ]
     },
     "execution_count": 46,
     "metadata": {},
     "output_type": "execute_result"
    }
   ],
   "source": [
    "A = model(X, w, b)\n",
    "print(f'Shape de A: {A.shape}')\n",
    "A"
   ]
  },
  {
   "cell_type": "markdown",
   "id": "8817d492-497b-467a-8898-c6262a83e581",
   "metadata": {},
   "source": [
    "## La Fonction Coût de Notre Modèle\n",
    "![image](fonction_cout.png)"
   ]
  },
  {
   "cell_type": "code",
   "execution_count": 47,
   "id": "49b43e89-9b00-452f-b37c-782250789a21",
   "metadata": {},
   "outputs": [],
   "source": [
    "def log_loss(A, y):\n",
    "    L = (-1/len(y)) * np.sum(y * np.log(A) + (1-y) * np.log(1-A))\n",
    "    return L"
   ]
  },
  {
   "cell_type": "code",
   "execution_count": 48,
   "id": "1a532dde-f864-4c06-af3d-5777df93669b",
   "metadata": {},
   "outputs": [],
   "source": [
    "loss = log_loss(A, y)"
   ]
  },
  {
   "cell_type": "code",
   "execution_count": 49,
   "id": "233df620-8c39-47a2-8ce8-cb0c6ed9d09c",
   "metadata": {},
   "outputs": [
    {
     "data": {
      "text/plain": [
       "0.2481735174871172"
      ]
     },
     "execution_count": 49,
     "metadata": {},
     "output_type": "execute_result"
    }
   ],
   "source": [
    "loss"
   ]
  },
  {
   "cell_type": "markdown",
   "id": "da80c2b2-771f-4805-aaf6-d31441e839a5",
   "metadata": {},
   "source": [
    "## Les Gradients de Notre Modèle\n",
    "![image](gradients.png)"
   ]
  },
  {
   "cell_type": "code",
   "execution_count": 50,
   "id": "e7ad3092-0104-4365-b090-5e3cea72fb3b",
   "metadata": {},
   "outputs": [],
   "source": [
    "def gradients(X, A, y):\n",
    "    dw = (1 / len(y)) * np.dot(X.T, (A-y))\n",
    "    db = (1 / len(y)) * np.sum( A - y )\n",
    "    \n",
    "    return (dw, db)"
   ]
  },
  {
   "cell_type": "markdown",
   "id": "e5f97d24-9afe-4eeb-8ae3-018044578724",
   "metadata": {},
   "source": [
    "## Testons les Gradients"
   ]
  },
  {
   "cell_type": "code",
   "execution_count": 52,
   "id": "88e4e373-db5a-4fb6-bdc3-ea1a30e1a938",
   "metadata": {},
   "outputs": [
    {
     "name": "stdout",
     "output_type": "stream",
     "text": [
      "Shape de dw: (2, 1)\n",
      "db: -0.1065889058374197\n"
     ]
    }
   ],
   "source": [
    "dw, db = gradients(X, A, y)\n",
    "print(f'Shape de dw: {dw.shape}\\ndb: {db}')"
   ]
  },
  {
   "cell_type": "code",
   "execution_count": 53,
   "id": "35cc159b-74cb-4cb0-b85d-bda0acbb7467",
   "metadata": {},
   "outputs": [
    {
     "data": {
      "text/plain": [
       "array([[-0.15614589],\n",
       "       [-0.13558757]])"
      ]
     },
     "execution_count": 53,
     "metadata": {},
     "output_type": "execute_result"
    }
   ],
   "source": [
    "dw"
   ]
  },
  {
   "cell_type": "markdown",
   "id": "efbbe2ec-405b-4c08-ac3e-33ff82a69531",
   "metadata": {},
   "source": [
    "## Mise à Jour des Gradients\n",
    "\n",
    "![image](update.png)"
   ]
  },
  {
   "cell_type": "code",
   "execution_count": 54,
   "id": "b35b108a-1ce0-4fce-a33c-20d844e6bc1a",
   "metadata": {},
   "outputs": [],
   "source": [
    "def update(dw, db, b, learning_rate):\n",
    "    w = w + learning_rate * dw\n",
    "    b = b + learning_rate * db\n",
    "    \n",
    "    return (w, b)"
   ]
  },
  {
   "cell_type": "code",
   "execution_count": null,
   "id": "2c072a94-b2d8-44fa-8d1d-e37bcf1c1743",
   "metadata": {},
   "outputs": [],
   "source": []
  }
 ],
 "metadata": {
  "kernelspec": {
   "display_name": "Python 3",
   "language": "python",
   "name": "python3"
  },
  "language_info": {
   "codemirror_mode": {
    "name": "ipython",
    "version": 3
   },
   "file_extension": ".py",
   "mimetype": "text/x-python",
   "name": "python",
   "nbconvert_exporter": "python",
   "pygments_lexer": "ipython3",
   "version": "3.8.5"
  }
 },
 "nbformat": 4,
 "nbformat_minor": 5
}
