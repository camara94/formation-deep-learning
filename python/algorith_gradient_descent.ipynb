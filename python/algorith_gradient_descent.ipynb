{
 "cells": [
  {
   "cell_type": "markdown",
   "id": "487710c4",
   "metadata": {},
   "source": [
    "# Implement de l'algorithme de la descente de Gradient en Deep Learning"
   ]
  },
  {
   "cell_type": "markdown",
   "id": "ce4307ea",
   "metadata": {},
   "source": [
    "## Importation des packages"
   ]
  },
  {
   "cell_type": "code",
   "execution_count": null,
   "id": "af3691b2",
   "metadata": {},
   "outputs": [],
   "source": [
    "%matplotlib inline\n",
    "import "
   ]
  }
 ],
 "metadata": {
  "kernelspec": {
   "display_name": "Python 3",
   "language": "python",
   "name": "python3"
  },
  "language_info": {
   "codemirror_mode": {
    "name": "ipython",
    "version": 3
   },
   "file_extension": ".py",
   "mimetype": "text/x-python",
   "name": "python",
   "nbconvert_exporter": "python",
   "pygments_lexer": "ipython3",
   "version": "3.8.5"
  }
 },
 "nbformat": 4,
 "nbformat_minor": 5
}
