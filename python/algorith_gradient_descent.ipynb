{
 "cells": [
  {
   "cell_type": "markdown",
   "id": "7bf2b8f1",
   "metadata": {},
   "source": [
    "# Implement de l'algorithme de la descente de Gradient en Deep Learning"
   ]
  },
  {
   "cell_type": "markdown",
   "id": "2a09a25f",
   "metadata": {},
   "source": [
    "## Importation des packages"
   ]
  },
  {
   "cell_type": "code",
   "execution_count": 1,
   "id": "73073149",
   "metadata": {},
   "outputs": [],
   "source": [
    "%matplotlib inline\n",
    "import matplotlib.pyplot as plt\n",
    "import seaborn as sns\n",
    "import numpy as np\n",
    "from sklearn.datasets import make_blobs\n",
    "plt.style.use('ggplot')"
   ]
  },
  {
   "cell_type": "markdown",
   "id": "26544a64",
   "metadata": {},
   "source": [
    "## Création du dataset"
   ]
  },
  {
   "cell_type": "code",
   "execution_count": 2,
   "id": "105ff5f4",
   "metadata": {},
   "outputs": [
    {
     "name": "stdout",
     "output_type": "stream",
     "text": [
      "Les de X: (100, 2)\n",
      "Les de y: (100, 1)\n"
     ]
    }
   ],
   "source": [
    "X, y = make_blobs(n_samples=100, n_features=2, centers=2, random_state=0)\n",
    "y = y.reshape(y.shape[0], 1)\n",
    "\n",
    "print(f'Les de X: {X.shape}')\n",
    "print(f'Les de y: {y.shape}')"
   ]
  },
  {
   "cell_type": "markdown",
   "id": "6728aedb",
   "metadata": {},
   "source": [
    "## Répresentation graphique des données"
   ]
  },
  {
   "cell_type": "code",
   "execution_count": 3,
   "id": "9a56c95e",
   "metadata": {},
   "outputs": [
    {
     "data": {
      "text/plain": [
       "<matplotlib.collections.PathCollection at 0x2ea351f8790>"
      ]
     },
     "execution_count": 3,
     "metadata": {},
     "output_type": "execute_result"
    },
    {
     "data": {
      "image/png": "[encoded data removed]",
      "text/plain": [
       "<Figure size 1152x576 with 1 Axes>"
      ]
     },
     "metadata": {},
     "output_type": "display_data"
    }
   ],
   "source": [
    "plt.figure(figsize=(16, 8))\n",
    "plt.scatter(X[:, 0], X[:, 1], c=y, cmap='summer')"
   ]
  },
  {
   "cell_type": "markdown",
   "id": "b1591fb2",
   "metadata": {},
   "source": [
    "## Création de la fonction initialisation"
   ]
  },
  {
   "cell_type": "code",
   "execution_count": 4,
   "id": "c4569cf0",
   "metadata": {},
   "outputs": [],
   "source": [
    "def initialisation(X):\n",
    "    W = np.random.randn(X.shape[1], 1)\n",
    "    b = np.random.randn(1)\n",
    "    \n",
    "    return (W, b)"
   ]
  },
  {
   "cell_type": "markdown",
   "id": "8a910f06",
   "metadata": {},
   "source": [
    "## Testons la fonction d'initialisation"
   ]
  },
  {
   "cell_type": "code",
   "execution_count": 5,
   "id": "743280ab",
   "metadata": {},
   "outputs": [],
   "source": [
    "W, b = initialisation(X)"
   ]
  },
  {
   "cell_type": "code",
   "execution_count": 6,
   "id": "ea060a7d",
   "metadata": {},
   "outputs": [
    {
     "data": {
      "text/plain": [
       "array([[ 1.6442544 ],\n",
       "       [-0.37450607]])"
      ]
     },
     "execution_count": 6,
     "metadata": {},
     "output_type": "execute_result"
    }
   ],
   "source": [
    "W"
   ]
  },
  {
   "cell_type": "code",
   "execution_count": 7,
   "id": "197c5f2e",
   "metadata": {},
   "outputs": [
    {
     "data": {
      "text/plain": [
       "array([-0.11659903])"
      ]
     },
     "execution_count": 7,
     "metadata": {},
     "output_type": "execute_result"
    }
   ],
   "source": [
    "b"
   ]
  },
  {
   "cell_type": "markdown",
   "id": "8149991c",
   "metadata": {},
   "source": [
    "## Création de la fonction d'action"
   ]
  },
  {
   "cell_type": "code",
   "execution_count": 8,
   "id": "0d1b5c67",
   "metadata": {},
   "outputs": [],
   "source": [
    "def sigmoid(Z):\n",
    "    A = 1 / (1 + np.exp(-Z))\n",
    "    return A"
   ]
  },
  {
   "cell_type": "markdown",
   "id": "caf931f1",
   "metadata": {},
   "source": [
    "## Création du modèle"
   ]
  },
  {
   "cell_type": "code",
   "execution_count": 9,
   "id": "4fb519ff",
   "metadata": {},
   "outputs": [],
   "source": [
    "def modele(X, W, b):\n",
    "    Z = X.dot(W) + b\n",
    "    A = sigmoid(Z)\n",
    "    \n",
    "    return A"
   ]
  },
  {
   "cell_type": "markdown",
   "id": "2c57a70b",
   "metadata": {},
   "source": [
    "## Testons le  modèle"
   ]
  },
  {
   "cell_type": "code",
   "execution_count": 10,
   "id": "413a1c1d",
   "metadata": {},
   "outputs": [],
   "source": [
    "A = modele(X, W,b)"
   ]
  },
  {
   "cell_type": "code",
   "execution_count": 12,
   "id": "1fca92b0",
   "metadata": {},
   "outputs": [
    {
     "data": {
      "text/plain": [
       "(100, 1)"
      ]
     },
     "execution_count": 12,
     "metadata": {},
     "output_type": "execute_result"
    }
   ],
   "source": [
    "A.shape"
   ]
  },
  {
   "cell_type": "markdown",
   "id": "dd2e60b9",
   "metadata": {},
   "source": [
    "## Determinons la fonction coût"
   ]
  },
  {
   "cell_type": "code",
   "execution_count": 15,
   "id": "53194789",
   "metadata": {},
   "outputs": [],
   "source": [
    "def fonction_cout(A, y):\n",
    "    L = 1 / len(y) * np.sum(-y * np.log(A) - (1 - y) * np.log(1 - A))\n",
    "    \n",
    "    return L"
   ]
  },
  {
   "cell_type": "markdown",
   "id": "2d39c21e",
   "metadata": {},
   "source": [
    "## Testons la fonction coût"
   ]
  },
  {
   "cell_type": "code",
   "execution_count": 16,
   "id": "e8dc7a82",
   "metadata": {},
   "outputs": [],
   "source": [
    "Loss = fonction_cout(A, y)"
   ]
  },
  {
   "cell_type": "code",
   "execution_count": 17,
   "id": "917929e7",
   "metadata": {},
   "outputs": [
    {
     "data": {
      "text/plain": [
       "0.527059734522911"
      ]
     },
     "execution_count": 17,
     "metadata": {},
     "output_type": "execute_result"
    }
   ],
   "source": [
    "Loss"
   ]
  },
  {
   "cell_type": "markdown",
   "id": "92db2985",
   "metadata": {},
   "source": [
    "## Determination des gradients"
   ]
  },
  {
   "cell_type": "code",
   "execution_count": 23,
   "id": "ed33e2d1",
   "metadata": {},
   "outputs": [],
   "source": [
    "def gradients(X, A, y):\n",
    "    dW = 1 / len(y) * np.dot(X.T, A - y)\n",
    "    db = 1 / len(y) * np.sum(A - y)\n",
    "    \n",
    "    return (dW, db)"
   ]
  },
  {
   "cell_type": "markdown",
   "id": "6ff83789",
   "metadata": {},
   "source": [
    "## Testons les Gradients"
   ]
  },
  {
   "cell_type": "code",
   "execution_count": 24,
   "id": "cd2ed651",
   "metadata": {},
   "outputs": [],
   "source": [
    "dW, db = gradients(X, A, y)"
   ]
  },
  {
   "cell_type": "code",
   "execution_count": 25,
   "id": "df777d4a",
   "metadata": {},
   "outputs": [
    {
     "data": {
      "text/plain": [
       "array([[0.29865369],\n",
       "       [0.88878096]])"
      ]
     },
     "execution_count": 25,
     "metadata": {},
     "output_type": "execute_result"
    }
   ],
   "source": [
    "dW"
   ]
  },
  {
   "cell_type": "code",
   "execution_count": 26,
   "id": "dd05b7f8",
   "metadata": {},
   "outputs": [
    {
     "data": {
      "text/plain": [
       "0.17497246350272477"
      ]
     },
     "execution_count": 26,
     "metadata": {},
     "output_type": "execute_result"
    }
   ],
   "source": [
    "db"
   ]
  },
  {
   "cell_type": "markdown",
   "id": "0b44eadb",
   "metadata": {},
   "source": [
    "## Algorithme de mise à jour des paramètres W et b"
   ]
  },
  {
   "cell_type": "code",
   "execution_count": 27,
   "id": "c84a2dae",
   "metadata": {},
   "outputs": [],
   "source": [
    "def update(dW, db, W, b, learning_rate):\n",
    "    W = W - learning_rate * dW\n",
    "    b = b - learning_rate * db\n",
    "    \n",
    "    return (W, b)"
   ]
  },
  {
   "cell_type": "markdown",
   "id": "2e3e87c5",
   "metadata": {},
   "source": [
    "## Testons l'Algorithme de mise à jour des paramètres W et b"
   ]
  },
  {
   "cell_type": "markdown",
   "id": "32f82006",
   "metadata": {},
   "source": [
    "### W, b AVANT MISE A JOUR"
   ]
  },
  {
   "cell_type": "code",
   "execution_count": 29,
   "id": "41d77413",
   "metadata": {},
   "outputs": [
    {
     "data": {
      "text/plain": [
       "(array([[ 1.6442544 ],\n",
       "        [-0.37450607]]),\n",
       " array([-0.11659903]))"
      ]
     },
     "execution_count": 29,
     "metadata": {},
     "output_type": "execute_result"
    }
   ],
   "source": [
    "W, b"
   ]
  },
  {
   "cell_type": "code",
   "execution_count": 30,
   "id": "602fbf26",
   "metadata": {},
   "outputs": [],
   "source": [
    "W, b = update(dW, db, W, b, 0.1)"
   ]
  },
  {
   "cell_type": "code",
   "execution_count": 31,
   "id": "8369c4d4",
   "metadata": {},
   "outputs": [
    {
     "data": {
      "text/plain": [
       "(array([[ 1.61438903],\n",
       "        [-0.46338417]]),\n",
       " array([-0.13409627]))"
      ]
     },
     "execution_count": 31,
     "metadata": {},
     "output_type": "execute_result"
    }
   ],
   "source": [
    "W, b"
   ]
  },
  {
   "cell_type": "code",
   "execution_count": null,
   "id": "7ce38f3f",
   "metadata": {},
   "outputs": [],
   "source": []
  }
 ],
 "metadata": {
  "kernelspec": {
   "display_name": "Python 3",
   "language": "python",
   "name": "python3"
  },
  "language_info": {
   "codemirror_mode": {
    "name": "ipython",
    "version": 3
   },
   "file_extension": ".py",
   "mimetype": "text/x-python",
   "name": "python",
   "nbconvert_exporter": "python",
   "pygments_lexer": "ipython3",
   "version": "3.8.5"
  }
 },
 "nbformat": 4,
 "nbformat_minor": 5
}
