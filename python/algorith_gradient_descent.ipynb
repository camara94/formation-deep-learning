{
 "cells": [
  {
   "cell_type": "markdown",
   "id": "2e249478",
   "metadata": {},
   "source": [
    "# Implement de l'algorithme de la descente de Gradient en Deep Learning"
   ]
  },
  {
   "cell_type": "markdown",
   "id": "12f08014",
   "metadata": {},
   "source": [
    "## Importation des packages"
   ]
  },
  {
   "cell_type": "code",
   "execution_count": 1,
   "id": "7703fb46",
   "metadata": {},
   "outputs": [],
   "source": [
    "%matplotlib inline\n",
    "import matplotlib.pyplot as plt\n",
    "import seaborn as sns\n",
    "import numpy as np\n",
    "from sklearn.datasets import make_blobs\n",
    "plt.style.use('ggplot')"
   ]
  },
  {
   "cell_type": "markdown",
   "id": "943a99a7",
   "metadata": {},
   "source": [
    "## Création du dataset"
   ]
  },
  {
   "cell_type": "code",
   "execution_count": 2,
   "id": "16869bbd",
   "metadata": {},
   "outputs": [
    {
     "name": "stdout",
     "output_type": "stream",
     "text": [
      "Les de X: (100, 2)\n",
      "Les de y: (100, 1)\n"
     ]
    }
   ],
   "source": [
    "X, y = make_blobs(n_samples=100, n_features=2, centers=2, random_state=0)\n",
    "y = y.reshape(y.shape[0], 1)\n",
    "\n",
    "print(f'Les de X: {X.shape}')\n",
    "print(f'Les de y: {y.shape}')"
   ]
  },
  {
   "cell_type": "markdown",
   "id": "37541a76",
   "metadata": {},
   "source": [
    "## Répresentation graphique des données"
   ]
  },
  {
   "cell_type": "code",
   "execution_count": 3,
   "id": "47179549",
   "metadata": {},
   "outputs": [
    {
     "data": {
      "text/plain": [
       "<matplotlib.collections.PathCollection at 0x2ea351f8790>"
      ]
     },
     "execution_count": 3,
     "metadata": {},
     "output_type": "execute_result"
    },
    {
     "data": {
      "image/png": "[encoded data removed]",
      "text/plain": [
       "<Figure size 1152x576 with 1 Axes>"
      ]
     },
     "metadata": {},
     "output_type": "display_data"
    }
   ],
   "source": [
    "plt.figure(figsize=(16, 8))\n",
    "plt.scatter(X[:, 0], X[:, 1], c=y, cmap='summer')"
   ]
  },
  {
   "cell_type": "markdown",
   "id": "ed127907",
   "metadata": {},
   "source": [
    "## Création de la fonction initialisation"
   ]
  },
  {
   "cell_type": "code",
   "execution_count": 4,
   "id": "8e7ba386",
   "metadata": {},
   "outputs": [],
   "source": [
    "def initialisation(X):\n",
    "    W = np.random.randn(X.shape[1], 1)\n",
    "    b = np.random.randn(1)\n",
    "    \n",
    "    return (W, b)"
   ]
  },
  {
   "cell_type": "markdown",
   "id": "d2a70504",
   "metadata": {},
   "source": [
    "## Testons la fonction d'initialisation"
   ]
  },
  {
   "cell_type": "code",
   "execution_count": 5,
   "id": "cdf94dde",
   "metadata": {},
   "outputs": [],
   "source": [
    "W, b = initialisation(X)"
   ]
  },
  {
   "cell_type": "code",
   "execution_count": 6,
   "id": "7557cddb",
   "metadata": {},
   "outputs": [
    {
     "data": {
      "text/plain": [
       "array([[ 1.6442544 ],\n",
       "       [-0.37450607]])"
      ]
     },
     "execution_count": 6,
     "metadata": {},
     "output_type": "execute_result"
    }
   ],
   "source": [
    "W"
   ]
  },
  {
   "cell_type": "code",
   "execution_count": 7,
   "id": "ed5bf870",
   "metadata": {},
   "outputs": [
    {
     "data": {
      "text/plain": [
       "array([-0.11659903])"
      ]
     },
     "execution_count": 7,
     "metadata": {},
     "output_type": "execute_result"
    }
   ],
   "source": [
    "b"
   ]
  },
  {
   "cell_type": "markdown",
   "id": "f5910fdb",
   "metadata": {},
   "source": [
    "## Création de la fonction d'action"
   ]
  },
  {
   "cell_type": "code",
   "execution_count": 8,
   "id": "e9bf46cd",
   "metadata": {},
   "outputs": [],
   "source": [
    "def sigmoid(Z):\n",
    "    A = 1 / (1 + np.exp(-Z))\n",
    "    return A"
   ]
  },
  {
   "cell_type": "markdown",
   "id": "098b7740",
   "metadata": {},
   "source": [
    "## Création du modèle"
   ]
  },
  {
   "cell_type": "code",
   "execution_count": 9,
   "id": "f1377839",
   "metadata": {},
   "outputs": [],
   "source": [
    "def modele(X, W, b):\n",
    "    Z = X.dot(W) + b\n",
    "    A = sigmoid(Z)\n",
    "    \n",
    "    return A"
   ]
  },
  {
   "cell_type": "markdown",
   "id": "70e67c72",
   "metadata": {},
   "source": [
    "## Testons le  modèle"
   ]
  },
  {
   "cell_type": "code",
   "execution_count": 10,
   "id": "c780eb52",
   "metadata": {},
   "outputs": [],
   "source": [
    "A = modele(X, W,b)"
   ]
  },
  {
   "cell_type": "code",
   "execution_count": 12,
   "id": "d5533873",
   "metadata": {},
   "outputs": [
    {
     "data": {
      "text/plain": [
       "(100, 1)"
      ]
     },
     "execution_count": 12,
     "metadata": {},
     "output_type": "execute_result"
    }
   ],
   "source": [
    "A.shape"
   ]
  },
  {
   "cell_type": "markdown",
   "id": "f28785bd",
   "metadata": {},
   "source": [
    "## Determinons la fonction coût"
   ]
  },
  {
   "cell_type": "code",
   "execution_count": 15,
   "id": "bc44be27",
   "metadata": {},
   "outputs": [],
   "source": [
    "def fonction_cout(A, y):\n",
    "    L = 1 / len(y) * np.sum(-y * np.log(A) - (1 - y) * np.log(1 - A))\n",
    "    \n",
    "    return L"
   ]
  },
  {
   "cell_type": "markdown",
   "id": "bb92b640",
   "metadata": {},
   "source": [
    "## Testons la fonction coût"
   ]
  },
  {
   "cell_type": "code",
   "execution_count": 16,
   "id": "acf96ea9",
   "metadata": {},
   "outputs": [],
   "source": [
    "Loss = fonction_cout(A, y)"
   ]
  },
  {
   "cell_type": "code",
   "execution_count": 17,
   "id": "25f3d715",
   "metadata": {},
   "outputs": [
    {
     "data": {
      "text/plain": [
       "0.527059734522911"
      ]
     },
     "execution_count": 17,
     "metadata": {},
     "output_type": "execute_result"
    }
   ],
   "source": [
    "Loss"
   ]
  },
  {
   "cell_type": "markdown",
   "id": "c51914ef",
   "metadata": {},
   "source": [
    "## Determination des gradients"
   ]
  },
  {
   "cell_type": "code",
   "execution_count": 23,
   "id": "907f76ea",
   "metadata": {},
   "outputs": [],
   "source": [
    "def gradients(X, A, y):\n",
    "    dW = 1 / len(y) * np.dot(X.T, A - y)\n",
    "    db = 1 / len(y) * np.sum(A - y)\n",
    "    \n",
    "    return (dW, db)"
   ]
  },
  {
   "cell_type": "markdown",
   "id": "907b5eb5",
   "metadata": {},
   "source": [
    "## Testons les Gradients"
   ]
  },
  {
   "cell_type": "code",
   "execution_count": 24,
   "id": "2bfd0b73",
   "metadata": {},
   "outputs": [],
   "source": [
    "dW, db = gradients(X, A, y)"
   ]
  },
  {
   "cell_type": "code",
   "execution_count": 25,
   "id": "2c0fbff8",
   "metadata": {},
   "outputs": [
    {
     "data": {
      "text/plain": [
       "array([[0.29865369],\n",
       "       [0.88878096]])"
      ]
     },
     "execution_count": 25,
     "metadata": {},
     "output_type": "execute_result"
    }
   ],
   "source": [
    "dW"
   ]
  },
  {
   "cell_type": "code",
   "execution_count": 26,
   "id": "81c78a1a",
   "metadata": {},
   "outputs": [
    {
     "data": {
      "text/plain": [
       "0.17497246350272477"
      ]
     },
     "execution_count": 26,
     "metadata": {},
     "output_type": "execute_result"
    }
   ],
   "source": [
    "db"
   ]
  },
  {
   "cell_type": "markdown",
   "id": "440b49dd",
   "metadata": {},
   "source": [
    "## Algorithme de mise à jour des paramètres W et b"
   ]
  },
  {
   "cell_type": "code",
   "execution_count": 27,
   "id": "cf2d6ef3",
   "metadata": {},
   "outputs": [],
   "source": [
    "def update(dW, db, W, b, learning_rate):\n",
    "    W = W - learning_rate * dW\n",
    "    b = b - learning_rate * db\n",
    "    \n",
    "    return (W, b)"
   ]
  },
  {
   "cell_type": "markdown",
   "id": "16a9ac70",
   "metadata": {},
   "source": [
    "## Testons l'Algorithme de mise à jour des paramètres W et b"
   ]
  },
  {
   "cell_type": "markdown",
   "id": "113f0191",
   "metadata": {},
   "source": [
    "### W, b AVANT MISE A JOUR"
   ]
  },
  {
   "cell_type": "code",
   "execution_count": 29,
   "id": "d65b4429",
   "metadata": {},
   "outputs": [
    {
     "data": {
      "text/plain": [
       "(array([[ 1.6442544 ],\n",
       "        [-0.37450607]]),\n",
       " array([-0.11659903]))"
      ]
     },
     "execution_count": 29,
     "metadata": {},
     "output_type": "execute_result"
    }
   ],
   "source": [
    "W, b"
   ]
  },
  {
   "cell_type": "markdown",
   "id": "9a404a5f",
   "metadata": {},
   "source": [
    "### W, b APRES MISE A JOUR"
   ]
  },
  {
   "cell_type": "code",
   "execution_count": 30,
   "id": "ae1aa8a6",
   "metadata": {},
   "outputs": [],
   "source": [
    "W, b = update(dW, db, W, b, 0.1)"
   ]
  },
  {
   "cell_type": "code",
   "execution_count": 31,
   "id": "e1c3bff3",
   "metadata": {},
   "outputs": [
    {
     "data": {
      "text/plain": [
       "(array([[ 1.61438903],\n",
       "        [-0.46338417]]),\n",
       " array([-0.13409627]))"
      ]
     },
     "execution_count": 31,
     "metadata": {},
     "output_type": "execute_result"
    }
   ],
   "source": [
    "W, b"
   ]
  },
  {
   "cell_type": "code",
   "execution_count": 44,
   "id": "c5f985e4",
   "metadata": {},
   "outputs": [],
   "source": [
    "from sklearn.metrics import accuracy_score"
   ]
  },
  {
   "cell_type": "markdown",
   "id": "ba728625",
   "metadata": {},
   "source": [
    "## Ensemblages des differentes algorithme pour l'algorithme de descente de gradient"
   ]
  },
  {
   "cell_type": "code",
   "execution_count": 41,
   "id": "2d409e4f",
   "metadata": {},
   "outputs": [],
   "source": [
    "def algo_descente_gradient(X,y, learning_rate = 0.1, epochs = 100):\n",
    "    ## Initialisation des paramètres\n",
    "    W, b = initialisation(X)\n",
    "    \n",
    "    Loss = []\n",
    "    ## Entrainement et amelioration des paramètre en fonction des sorties souhaités\n",
    "    for i in range(epochs):\n",
    "        ## appel du model \n",
    "        A = modele(X, W, b)\n",
    "        \n",
    "        ## Calcule des coût\n",
    "        Loss.append(fonction_cout(A, y))\n",
    "        \n",
    "        ## Calcule des gradients\n",
    "        dW, db = gradients(X, A, y)\n",
    "        \n",
    "        ## Optimisation des paramètres\n",
    "        W, b = update(dW, db, W, b, learning_rate)\n",
    "        \n",
    "    ## Affichage de la courbe d'apprentissage\n",
    "    plt.figure(figsize=(6,8))\n",
    "    plt.plot(Loss)\n",
    "    \n",
    "    return (W, b)"
   ]
  },
  {
   "cell_type": "code",
   "execution_count": 42,
   "id": "1fc89807",
   "metadata": {},
   "outputs": [
    {
     "data": {
      "image/png": "[encoded data removed]",
      "text/plain": [
       "<Figure size 432x576 with 1 Axes>"
      ]
     },
     "metadata": {},
     "output_type": "display_data"
    }
   ],
   "source": [
    "W, b = algo_descente_gradient(X, y)"
   ]
  },
  {
   "cell_type": "code",
   "execution_count": null,
   "id": "f45e4edb",
   "metadata": {},
   "outputs": [],
   "source": []
  },
  {
   "cell_type": "code",
   "execution_count": null,
   "id": "ea93363b",
   "metadata": {},
   "outputs": [],
   "source": []
  }
 ],
 "metadata": {
  "kernelspec": {
   "display_name": "Python 3",
   "language": "python",
   "name": "python3"
  },
  "language_info": {
   "codemirror_mode": {
    "name": "ipython",
    "version": 3
   },
   "file_extension": ".py",
   "mimetype": "text/x-python",
   "name": "python",
   "nbconvert_exporter": "python",
   "pygments_lexer": "ipython3",
   "version": "3.8.5"
  }
 },
 "nbformat": 4,
 "nbformat_minor": 5
}
