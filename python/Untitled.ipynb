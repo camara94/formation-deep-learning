{
 "cells": [
  {
   "cell_type": "markdown",
   "id": "07bc2b4e-047e-4fc0-bdc4-73c09333e3e7",
   "metadata": {},
   "source": [
    "# Réseau de Neurone"
   ]
  },
  {
   "cell_type": "code",
   "execution_count": 16,
   "id": "902fde53-1bbe-4702-9a5f-c0078f763f1e",
   "metadata": {},
   "outputs": [],
   "source": [
    "import matplotlib.pyplot as plt\n",
    "import numpy as np\n",
    "from sklearn.datasets import make_blobs"
   ]
  },
  {
   "cell_type": "code",
   "execution_count": 17,
   "id": "89b44a7d-20a4-4d57-9cc7-e4c20a3e8734",
   "metadata": {},
   "outputs": [
    {
     "data": {
      "text/plain": [
       "<matplotlib.collections.PathCollection at 0x2cca97d32e0>"
      ]
     },
     "execution_count": 17,
     "metadata": {},
     "output_type": "execute_result"
    },
    {
     "data": {
      "image/png": "[encoded data removed]",
      "text/plain": [
       "<Figure size 432x288 with 1 Axes>"
      ]
     },
     "metadata": {
      "needs_background": "light"
     },
     "output_type": "display_data"
    }
   ],
   "source": [
    "X, y = make_blobs(n_samples=100, n_features=2, centers=2, random_state=0)\n",
    "\n",
    "plt.scatter(X[:,0], X[:, 1], c=y, cmap='summer')"
   ]
  },
  {
   "cell_type": "markdown",
   "id": "c5b8b72f-f1a0-4cca-ac71-ad3a7c452019",
   "metadata": {},
   "source": [
    "## Fonction d'Initialisation"
   ]
  },
  {
   "cell_type": "code",
   "execution_count": 27,
   "id": "1ef1d5ad-59e9-4850-98e6-d00651dbaea9",
   "metadata": {},
   "outputs": [],
   "source": [
    "def initialisation(X):\n",
    "    W = np.random.randn(X.shape[1], 1)\n",
    "    b = np.random.randn(1)\n",
    "    \n",
    "    return (W, b)"
   ]
  },
  {
   "cell_type": "code",
   "execution_count": 28,
   "id": "2d5807c9-6133-43e0-9c6a-a2ee92c2d15a",
   "metadata": {},
   "outputs": [
    {
     "data": {
      "text/plain": [
       "(array([[-0.59402798],\n",
       "        [-0.03928505]]),\n",
       " array([0.73741343]))"
      ]
     },
     "execution_count": 28,
     "metadata": {},
     "output_type": "execute_result"
    }
   ],
   "source": [
    "initialisation(X)"
   ]
  },
  {
   "cell_type": "markdown",
   "id": "99562745-adc8-4251-8270-f47c612fd94a",
   "metadata": {},
   "source": [
    "## Création du modèle"
   ]
  },
  {
   "cell_type": "code",
   "execution_count": 86,
   "id": "bac97f1d-74ec-4316-a1f4-eef6bc80982f",
   "metadata": {},
   "outputs": [],
   "source": [
    "def model(X, W, b):\n",
    "    Z = X.dot(W) + b\n",
    "    A = 1 / (1 + np.exp(-Z))\n",
    "    \n",
    "    return A"
   ]
  },
  {
   "cell_type": "markdown",
   "id": "fc922084-05e2-41d4-8379-cdc537d77674",
   "metadata": {},
   "source": [
    "## Définition de la Fonction Coût"
   ]
  },
  {
   "cell_type": "code",
   "execution_count": 87,
   "id": "9d14802e-3ac8-4784-a65f-a5bc50670d8e",
   "metadata": {},
   "outputs": [],
   "source": [
    "def log_loss(A, y):\n",
    "    L = 1 / len(y) * np.sum(-y * np.log(A) - (1 - y) * np.log(1 - A))\n",
    "    return L"
   ]
  },
  {
   "cell_type": "markdown",
   "id": "04af2a64-60fd-4f46-b921-fff8011b9dc4",
   "metadata": {},
   "source": [
    "## Définition des Gradients"
   ]
  },
  {
   "cell_type": "code",
   "execution_count": 88,
   "id": "e8d0ed50-b44d-4f44-882f-010cc332135a",
   "metadata": {},
   "outputs": [],
   "source": [
    "def gradients(A, X, y):\n",
    "    dw = 1 / len(y) * np.dot(X.T, A - y)\n",
    "    db = 1 / len(y) * np.sum(A - y)\n",
    "    \n",
    "    return (dw, db)"
   ]
  },
  {
   "cell_type": "markdown",
   "id": "90c53bf2-856e-4439-abac-9279894e8065",
   "metadata": {},
   "source": [
    "## La Fonction de Mise à Jour"
   ]
  },
  {
   "cell_type": "code",
   "execution_count": 89,
   "id": "e6b2135a-88a1-4814-b0b3-733e93546f64",
   "metadata": {},
   "outputs": [],
   "source": [
    "def update(dw, db, W, b, learning_rate):\n",
    "    W = W - learning_rate * dw\n",
    "    b = b - learning_rate * db\n",
    "    \n",
    "    return (W, b)"
   ]
  },
  {
   "cell_type": "code",
   "execution_count": 94,
   "id": "9959a3fa-fcab-451c-b6a0-53de28b89a4b",
   "metadata": {},
   "outputs": [],
   "source": [
    "def predict(X, W, b):\n",
    "    A = modele(X, W, b)\n",
    "    # print(A)\n",
    "    return A >= 0.5"
   ]
  },
  {
   "cell_type": "code",
   "execution_count": 95,
   "id": "6ca4d98c-11f6-4150-ab0a-9178d616f8f0",
   "metadata": {},
   "outputs": [],
   "source": [
    "from sklearn.metrics import accuracy_score"
   ]
  },
  {
   "cell_type": "markdown",
   "id": "ba73c4a2-8cec-4e03-b69b-d73fe8d217be",
   "metadata": {},
   "source": [
    "## La Fonction d'entrainement"
   ]
  },
  {
   "cell_type": "code",
   "execution_count": 96,
   "id": "7d0a5e84-25c9-429e-b2e5-406fd79bdd4f",
   "metadata": {},
   "outputs": [],
   "source": [
    " def artificial_neuron(X, y, learning_rate = 0.1, n_iter = 100):\n",
    "    # initialisation W, b\n",
    "    W, b = initialisation(X)\n",
    "\n",
    "    Loss = []\n",
    "\n",
    "    for i in range(n_iter):\n",
    "        A = model(X, W, b)\n",
    "        Loss.append(log_loss(A, y))\n",
    "        dW, db = gradients(A, X, y)\n",
    "        W, b = update(dW, db, W, b, learning_rate)\n",
    "\n",
    "    y_pred = predict(X, W, b)\n",
    "    print(accuracy_score(y, y_pred))\n",
    "\n",
    "    plt.plot(Loss)\n",
    "    plt.show()\n",
    "\n",
    "    return (W, b)\n",
    "    "
   ]
  },
  {
   "cell_type": "code",
   "execution_count": 102,
   "id": "9a3ce1aa-3e86-413d-a74f-a0939460c89c",
   "metadata": {},
   "outputs": [
    {
     "data": {
      "image/png": "[encoded data removed]",
      "text/plain": [
       "<Figure size 432x288 with 1 Axes>"
      ]
     },
     "metadata": {
      "needs_background": "light"
     },
     "output_type": "display_data"
    }
   ],
   "source": [
    "W, b = artificial_neuron(X, y)"
   ]
  },
  {
   "cell_type": "code",
   "execution_count": 103,
   "id": "3c71c22f-70e1-498b-ae0c-08e4f26c3eea",
   "metadata": {},
   "outputs": [],
   "source": [
    "y_pred = predict(X, W, b)"
   ]
  },
  {
   "cell_type": "code",
   "execution_count": null,
   "id": "0727e14a-35a0-4933-8b4f-1150f9e35980",
   "metadata": {},
   "outputs": [],
   "source": []
  },
  {
   "cell_type": "code",
   "execution_count": null,
   "id": "b9e084ec-32cf-4b64-ab9c-5e356d71c0f0",
   "metadata": {},
   "outputs": [],
   "source": []
  }
 ],
 "metadata": {
  "kernelspec": {
   "display_name": "Python 3",
   "language": "python",
   "name": "python3"
  },
  "language_info": {
   "codemirror_mode": {
    "name": "ipython",
    "version": 3
   },
   "file_extension": ".py",
   "mimetype": "text/x-python",
   "name": "python",
   "nbconvert_exporter": "python",
   "pygments_lexer": "ipython3",
   "version": "3.8.5"
  }
 },
 "nbformat": 4,
 "nbformat_minor": 5
}
