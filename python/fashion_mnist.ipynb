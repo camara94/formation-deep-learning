{
 "cells": [
  {
   "cell_type": "markdown",
   "id": "b389e5b6",
   "metadata": {},
   "source": [
    "# L'analyse du dataset mnist en tensorflow "
   ]
  },
  {
   "cell_type": "markdown",
   "id": "c2f3fcc5",
   "metadata": {},
   "source": [
    "## Importataion des packages"
   ]
  },
  {
   "cell_type": "code",
   "execution_count": 2,
   "id": "baa1c3ac",
   "metadata": {},
   "outputs": [],
   "source": [
    "%matplotlib inline\n",
    "import matplotlib.pyplot as plt\n",
    "import seaborn as sns\n",
    "import tensorflow as tf\n",
    "from tensorflow import keras\n",
    "import numpy as np\n",
    "plt.style.use('ggplot')"
   ]
  },
  {
   "cell_type": "markdown",
   "id": "c3b79368",
   "metadata": {},
   "source": [
    "## Création du dataset"
   ]
  },
  {
   "cell_type": "code",
   "execution_count": 4,
   "id": "0a7e22ad",
   "metadata": {},
   "outputs": [],
   "source": [
    "(X_train, y_train), (X_test, y_test) = keras.datasets.fashion_mnist.load_data()"
   ]
  },
  {
   "cell_type": "code",
   "execution_count": null,
   "id": "5681c834",
   "metadata": {},
   "outputs": [],
   "source": [
    "print(f'Taille des données d\\'entrainement: {X_train.shape}')\n",
    "print(f'Taille des données de teste: {X_.shape}')"
   ]
  }
 ],
 "metadata": {
  "kernelspec": {
   "display_name": "Python 3",
   "language": "python",
   "name": "python3"
  },
  "language_info": {
   "codemirror_mode": {
    "name": "ipython",
    "version": 3
   },
   "file_extension": ".py",
   "mimetype": "text/x-python",
   "name": "python",
   "nbconvert_exporter": "python",
   "pygments_lexer": "ipython3",
   "version": "3.8.5"
  }
 },
 "nbformat": 4,
 "nbformat_minor": 5
}
