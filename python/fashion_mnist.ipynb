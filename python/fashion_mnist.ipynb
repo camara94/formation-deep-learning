{
 "cells": [
  {
   "cell_type": "markdown",
   "id": "7a08efeb",
   "metadata": {},
   "source": [
    "# L'analyse du dataset mnist en tensorflow "
   ]
  },
  {
   "cell_type": "markdown",
   "id": "684d9c4d",
   "metadata": {},
   "source": [
    "## Importataion des packages"
   ]
  },
  {
   "cell_type": "code",
   "execution_count": 2,
   "id": "7f6dd399",
   "metadata": {},
   "outputs": [],
   "source": [
    "%matplotlib inline\n",
    "import matplotlib.pyplot as plt\n",
    "import seaborn as sns\n",
    "import tensorflow as tf\n",
    "from tensorflow import keras\n",
    "import numpy as np\n",
    "plt.style.use('ggplot')"
   ]
  },
  {
   "cell_type": "markdown",
   "id": "9bacc472",
   "metadata": {},
   "source": [
    "## Création du dataset"
   ]
  },
  {
   "cell_type": "code",
   "execution_count": 4,
   "id": "a0f0ae0e",
   "metadata": {},
   "outputs": [],
   "source": [
    "(X_train, y_train), (X_test, y_test) = keras.datasets.fashion_mnist.load_data()"
   ]
  },
  {
   "cell_type": "code",
   "execution_count": 5,
   "id": "ed357f74",
   "metadata": {},
   "outputs": [
    {
     "name": "stdout",
     "output_type": "stream",
     "text": [
      "Taille des données d'entrainement: (60000, 28, 28)\n",
      "Taille des données de teste: (10000, 28, 28)\n"
     ]
    }
   ],
   "source": [
    "print(f'Taille des données d\\'entrainement: {X_train.shape}')\n",
    "print(f'Taille des données de teste: {X_test.shape}')"
   ]
  },
  {
   "cell_type": "markdown",
   "id": "39afa2e1",
   "metadata": {},
   "source": [
    "## Création du modèle"
   ]
  },
  {
   "cell_type": "code",
   "execution_count": 12,
   "id": "8e5d072e",
   "metadata": {},
   "outputs": [],
   "source": [
    "modele = keras.Sequential(\n",
    " [\n",
    "     keras.layers.Flatten(input_shape=(X_train.shape[1], X_train.shape[2])),\n",
    "     keras.layers.Dense(units = 128, activation = tf.nn.relu),\n",
    "     keras.layers.Dense(10, activation = tf.nn.softmax )\n",
    " ]\n",
    ")\n",
    "\n",
    "modele.compile(\n",
    "    optimizer = 'adam',\n",
    "    loss = 'sparse_categorical_crossentropy',\n",
    "    metrics = ['accuracy']\n",
    ")"
   ]
  },
  {
   "cell_type": "code",
   "execution_count": 8,
   "id": "67ffcb64",
   "metadata": {},
   "outputs": [
    {
     "ename": "AttributeError",
     "evalue": "module 'tensorflow._api.v2.train' has no attribute 'meanSquaredError'",
     "output_type": "error",
     "traceback": [
      "\u001b[1;31m---------------------------------------------------------------------------\u001b[0m",
      "\u001b[1;31mAttributeError\u001b[0m                            Traceback (most recent call last)",
      "\u001b[1;32m<ipython-input-8-cf108e764dd9>\u001b[0m in \u001b[0;36m<module>\u001b[1;34m\u001b[0m\n\u001b[1;32m----> 1\u001b[1;33m \u001b[0mtf\u001b[0m\u001b[1;33m.\u001b[0m\u001b[0mtrain\u001b[0m\u001b[1;33m.\u001b[0m\u001b[0mmeanSquaredError\u001b[0m\u001b[1;33m\u001b[0m\u001b[1;33m\u001b[0m\u001b[0m\n\u001b[0m",
      "\u001b[1;31mAttributeError\u001b[0m: module 'tensorflow._api.v2.train' has no attribute 'meanSquaredError'"
     ]
    }
   ],
   "source": []
  },
  {
   "cell_type": "code",
   "execution_count": null,
   "id": "04b13502",
   "metadata": {},
   "outputs": [],
   "source": []
  }
 ],
 "metadata": {
  "kernelspec": {
   "display_name": "Python 3",
   "language": "python",
   "name": "python3"
  },
  "language_info": {
   "codemirror_mode": {
    "name": "ipython",
    "version": 3
   },
   "file_extension": ".py",
   "mimetype": "text/x-python",
   "name": "python",
   "nbconvert_exporter": "python",
   "pygments_lexer": "ipython3",
   "version": "3.8.5"
  }
 },
 "nbformat": 4,
 "nbformat_minor": 5
}
