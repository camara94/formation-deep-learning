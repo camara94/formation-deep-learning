{
 "cells": [
  {
   "cell_type": "markdown",
   "id": "994c532f",
   "metadata": {},
   "source": [
    "# L'analyse du dataset mnist en tensorflow "
   ]
  },
  {
   "cell_type": "markdown",
   "id": "c9e379b7",
   "metadata": {},
   "source": [
    "## Importataion des packages"
   ]
  },
  {
   "cell_type": "code",
   "execution_count": 2,
   "id": "78113fe4",
   "metadata": {},
   "outputs": [],
   "source": [
    "%matplotlib inline\n",
    "import matplotlib.pyplot as plt\n",
    "import seaborn as sns\n",
    "import tensorflow as tf\n",
    "from tensorflow import keras\n",
    "import numpy as np\n",
    "plt.style.use('ggplot')"
   ]
  },
  {
   "cell_type": "markdown",
   "id": "d4baab52",
   "metadata": {},
   "source": [
    "## Création du dataset"
   ]
  },
  {
   "cell_type": "code",
   "execution_count": 4,
   "id": "5e590dfc",
   "metadata": {},
   "outputs": [],
   "source": [
    "(X_train, y_train), (X_test, y_test) = keras.datasets.fashion_mnist.load_data()"
   ]
  },
  {
   "cell_type": "code",
   "execution_count": 5,
   "id": "6e29d583",
   "metadata": {},
   "outputs": [
    {
     "name": "stdout",
     "output_type": "stream",
     "text": [
      "Taille des données d'entrainement: (60000, 28, 28)\n",
      "Taille des données de teste: (10000, 28, 28)\n"
     ]
    }
   ],
   "source": [
    "print(f'Taille des données d\\'entrainement: {X_train.shape}')\n",
    "print(f'Taille des données de teste: {X_test.shape}')"
   ]
  },
  {
   "cell_type": "markdown",
   "id": "a2a74315",
   "metadata": {},
   "source": [
    "## Création du modèle"
   ]
  },
  {
   "cell_type": "code",
   "execution_count": 12,
   "id": "17b63fa2",
   "metadata": {},
   "outputs": [],
   "source": [
    "modele = keras.Sequential(\n",
    " [\n",
    "     keras.layers.Flatten(input_shape=(X_train.shape[1], X_train.shape[2])),\n",
    "     keras.layers.Dense(units = 128, activation = tf.nn.relu),\n",
    "     keras.layers.Dense(10, activation = tf.nn.softmax )\n",
    " ]\n",
    ")\n",
    "\n",
    "modele.compile(\n",
    "    optimizer = 'adam',\n",
    "    loss = 'sparse_categorical_crossentropy',\n",
    "    metrics = ['accuracy']\n",
    ")"
   ]
  },
  {
   "cell_type": "markdown",
   "id": "53001145",
   "metadata": {},
   "source": [
    "## Entrainement du modèle"
   ]
  },
  {
   "cell_type": "code",
   "execution_count": 14,
   "id": "c3a19c62",
   "metadata": {},
   "outputs": [
    {
     "name": "stdout",
     "output_type": "stream",
     "text": [
      "Epoch 1/50\n",
      "1875/1875 [==============================] - 5s 2ms/step - loss: 3.4956 - accuracy: 0.6887: 0s - loss: 3.6590 - accura\n",
      "Epoch 2/50\n",
      "1875/1875 [==============================] - 4s 2ms/step - loss: 0.7192 - accuracy: 0.7426\n",
      "Epoch 3/50\n",
      "1875/1875 [==============================] - 4s 2ms/step - loss: 0.6211 - accuracy: 0.7792\n",
      "Epoch 4/50\n",
      "1875/1875 [==============================] - 4s 2ms/step - loss: 0.5525 - accuracy: 0.8154\n",
      "Epoch 5/50\n",
      "1875/1875 [==============================] - 4s 2ms/step - loss: 0.5231 - accuracy: 0.8249\n",
      "Epoch 6/50\n",
      "1875/1875 [==============================] - 4s 2ms/step - loss: 0.5069 - accuracy: 0.8303\n",
      "Epoch 7/50\n",
      "1875/1875 [==============================] - 4s 2ms/step - loss: 0.4910 - accuracy: 0.8346\n",
      "Epoch 8/50\n",
      "1875/1875 [==============================] - 4s 2ms/step - loss: 0.4886 - accuracy: 0.8361\n",
      "Epoch 9/50\n",
      "1875/1875 [==============================] - 4s 2ms/step - loss: 0.4693 - accuracy: 0.8400\n",
      "Epoch 10/50\n",
      "1875/1875 [==============================] - 4s 2ms/step - loss: 0.4742 - accuracy: 0.8423\n",
      "Epoch 11/50\n",
      "1875/1875 [==============================] - 4s 2ms/step - loss: 0.4742 - accuracy: 0.8419\n",
      "Epoch 12/50\n",
      "1875/1875 [==============================] - 4s 2ms/step - loss: 0.4515 - accuracy: 0.8457: 0s - los\n",
      "Epoch 13/50\n",
      "1875/1875 [==============================] - 4s 2ms/step - loss: 0.4577 - accuracy: 0.8451\n",
      "Epoch 14/50\n",
      "1875/1875 [==============================] - 4s 2ms/step - loss: 0.4556 - accuracy: 0.8457\n",
      "Epoch 15/50\n",
      "1875/1875 [==============================] - 4s 2ms/step - loss: 0.4479 - accuracy: 0.8469\n",
      "Epoch 16/50\n",
      "1875/1875 [==============================] - 4s 2ms/step - loss: 0.4435 - accuracy: 0.8484\n",
      "Epoch 17/50\n",
      "1875/1875 [==============================] - 5s 2ms/step - loss: 0.4481 - accuracy: 0.8476\n",
      "Epoch 18/50\n",
      "1875/1875 [==============================] - 4s 2ms/step - loss: 0.4443 - accuracy: 0.8473\n",
      "Epoch 19/50\n",
      "1875/1875 [==============================] - 4s 2ms/step - loss: 0.4384 - accuracy: 0.8501\n",
      "Epoch 20/50\n",
      "1875/1875 [==============================] - 4s 2ms/step - loss: 0.4377 - accuracy: 0.8495\n",
      "Epoch 21/50\n",
      "1875/1875 [==============================] - 4s 2ms/step - loss: 0.4350 - accuracy: 0.8483\n",
      "Epoch 22/50\n",
      "1875/1875 [==============================] - 4s 2ms/step - loss: 0.4334 - accuracy: 0.8498\n",
      "Epoch 23/50\n",
      "1875/1875 [==============================] - 4s 2ms/step - loss: 0.4281 - accuracy: 0.8502\n",
      "Epoch 24/50\n",
      "1875/1875 [==============================] - 4s 2ms/step - loss: 0.4285 - accuracy: 0.8510\n",
      "Epoch 25/50\n",
      "1875/1875 [==============================] - 4s 2ms/step - loss: 0.4230 - accuracy: 0.8514\n",
      "Epoch 26/50\n",
      "1875/1875 [==============================] - 4s 2ms/step - loss: 0.4319 - accuracy: 0.8491\n",
      "Epoch 27/50\n",
      "1875/1875 [==============================] - 4s 2ms/step - loss: 0.4247 - accuracy: 0.8525\n",
      "Epoch 28/50\n",
      "1875/1875 [==============================] - 4s 2ms/step - loss: 0.4257 - accuracy: 0.8515\n",
      "Epoch 29/50\n",
      "1875/1875 [==============================] - 4s 2ms/step - loss: 0.4274 - accuracy: 0.8513\n",
      "Epoch 30/50\n",
      "1875/1875 [==============================] - 4s 2ms/step - loss: 0.4276 - accuracy: 0.8525\n",
      "Epoch 31/50\n",
      "1875/1875 [==============================] - 4s 2ms/step - loss: 0.4320 - accuracy: 0.8496\n",
      "Epoch 32/50\n",
      "1875/1875 [==============================] - 4s 2ms/step - loss: 0.4113 - accuracy: 0.8548\n",
      "Epoch 33/50\n",
      "1875/1875 [==============================] - 5s 2ms/step - loss: 0.4211 - accuracy: 0.8530\n",
      "Epoch 34/50\n",
      "1875/1875 [==============================] - 4s 2ms/step - loss: 0.4310 - accuracy: 0.8506\n",
      "Epoch 35/50\n",
      "1875/1875 [==============================] - 4s 2ms/step - loss: 0.4207 - accuracy: 0.8536\n",
      "Epoch 36/50\n",
      "1875/1875 [==============================] - 4s 2ms/step - loss: 0.4235 - accuracy: 0.8529\n",
      "Epoch 37/50\n",
      "1875/1875 [==============================] - 4s 2ms/step - loss: 0.4170 - accuracy: 0.8538\n",
      "Epoch 38/50\n",
      "1875/1875 [==============================] - 4s 2ms/step - loss: 0.4125 - accuracy: 0.8543\n",
      "Epoch 39/50\n",
      "1875/1875 [==============================] - 4s 2ms/step - loss: 0.4172 - accuracy: 0.8554: 0s - loss: 0.4130 - accuracy\n",
      "Epoch 40/50\n",
      "1875/1875 [==============================] - 4s 2ms/step - loss: 0.4137 - accuracy: 0.8553\n",
      "Epoch 41/50\n",
      "1875/1875 [==============================] - 4s 2ms/step - loss: 0.4159 - accuracy: 0.8536\n",
      "Epoch 42/50\n",
      "1875/1875 [==============================] - 5s 2ms/step - loss: 0.4220 - accuracy: 0.8523\n",
      "Epoch 43/50\n",
      "1875/1875 [==============================] - 4s 2ms/step - loss: 0.4119 - accuracy: 0.8534: 0s - loss: 0.4123 - accu\n",
      "Epoch 44/50\n",
      "1875/1875 [==============================] - 4s 2ms/step - loss: 0.4175 - accuracy: 0.8544\n",
      "Epoch 45/50\n",
      "1875/1875 [==============================] - 4s 2ms/step - loss: 0.4093 - accuracy: 0.8568\n",
      "Epoch 46/50\n",
      "1875/1875 [==============================] - 4s 2ms/step - loss: 0.4081 - accuracy: 0.8547\n",
      "Epoch 47/50\n",
      "1875/1875 [==============================] - 4s 2ms/step - loss: 0.4174 - accuracy: 0.8544\n",
      "Epoch 48/50\n",
      "1875/1875 [==============================] - 4s 2ms/step - loss: 0.4146 - accuracy: 0.8534\n",
      "Epoch 49/50\n",
      "1875/1875 [==============================] - 5s 2ms/step - loss: 0.4110 - accuracy: 0.8561\n",
      "Epoch 50/50\n",
      "1875/1875 [==============================] - 4s 2ms/step - loss: 0.4152 - accuracy: 0.8571\n"
     ]
    },
    {
     "data": {
      "text/plain": [
       "<keras.callbacks.History at 0x23569fe4c10>"
      ]
     },
     "execution_count": 14,
     "metadata": {},
     "output_type": "execute_result"
    }
   ],
   "source": [
    "modele.fit(X_train, y_train, epochs=50)"
   ]
  },
  {
   "cell_type": "markdown",
   "id": "4e4ad92a",
   "metadata": {},
   "source": [
    "## Evaluation du modèle"
   ]
  },
  {
   "cell_type": "code",
   "execution_count": 15,
   "id": "823ca283",
   "metadata": {},
   "outputs": [
    {
     "name": "stdout",
     "output_type": "stream",
     "text": [
      "313/313 [==============================] - 1s 2ms/step - loss: 0.5785 - accuracy: 0.8250\n"
     ]
    },
    {
     "data": {
      "text/plain": [
       "[0.5785151720046997, 0.824999988079071]"
      ]
     },
     "execution_count": 15,
     "metadata": {},
     "output_type": "execute_result"
    }
   ],
   "source": [
    "modele.evaluate(X_test, y_test)"
   ]
  },
  {
   "cell_type": "markdown",
   "id": "d66aef81",
   "metadata": {},
   "source": [
    "## Prédiction du modèle"
   ]
  },
  {
   "cell_type": "code",
   "execution_count": 16,
   "id": "d1bbc573",
   "metadata": {},
   "outputs": [],
   "source": [
    "y_pred = modele.predict(X_test)"
   ]
  },
  {
   "cell_type": "code",
   "execution_count": 17,
   "id": "b75deeaf",
   "metadata": {},
   "outputs": [
    {
     "data": {
      "text/plain": [
       "9"
      ]
     },
     "execution_count": 17,
     "metadata": {},
     "output_type": "execute_result"
    }
   ],
   "source": [
    "y_test[0]"
   ]
  },
  {
   "cell_type": "code",
   "execution_count": 18,
   "id": "50e6a5f9",
   "metadata": {},
   "outputs": [
    {
     "data": {
      "text/plain": [
       "9"
      ]
     },
     "execution_count": 18,
     "metadata": {},
     "output_type": "execute_result"
    }
   ],
   "source": [
    "np.argmax(y_pred[0])"
   ]
  },
  {
   "cell_type": "markdown",
   "id": "48128793",
   "metadata": {},
   "source": [
    "## Determinons la matrice de confusion"
   ]
  },
  {
   "cell_type": "code",
   "execution_count": 19,
   "id": "a03ebc45",
   "metadata": {},
   "outputs": [],
   "source": [
    "y_labels = [np.argmax(y) for y in y_pred]"
   ]
  },
  {
   "cell_type": "code",
   "execution_count": 22,
   "id": "0e0bb499",
   "metadata": {},
   "outputs": [],
   "source": [
    "cm = tf.math.confusion_matrix(predictions=y_labels, labels=y_test)"
   ]
  },
  {
   "cell_type": "code",
   "execution_count": 25,
   "id": "840c0f98",
   "metadata": {},
   "outputs": [
    {
     "data": {
      "text/plain": [
       "Text(0.5, 24.0, 'valeur réelle')"
      ]
     },
     "execution_count": 25,
     "metadata": {},
     "output_type": "execute_result"
    },
    {
     "data": {
      "image/png": "[encoded data removed]",
      "text/plain": [
       "<Figure size 720x360 with 2 Axes>"
      ]
     },
     "metadata": {},
     "output_type": "display_data"
    }
   ],
   "source": [
    "plt.figure(figsize=(10, 5))\n",
    "sns.heatmap(cm, annot=True, fmt='d')\n",
    "plt.ylabel('La valeur prédite')\n",
    "plt.xlabel('valeur réelle')"
   ]
  },
  {
   "cell_type": "code",
   "execution_count": null,
   "id": "eb5a25db",
   "metadata": {},
   "outputs": [],
   "source": []
  }
 ],
 "metadata": {
  "kernelspec": {
   "display_name": "Python 3",
   "language": "python",
   "name": "python3"
  },
  "language_info": {
   "codemirror_mode": {
    "name": "ipython",
    "version": 3
   },
   "file_extension": ".py",
   "mimetype": "text/x-python",
   "name": "python",
   "nbconvert_exporter": "python",
   "pygments_lexer": "ipython3",
   "version": "3.8.5"
  }
 },
 "nbformat": 4,
 "nbformat_minor": 5
}
