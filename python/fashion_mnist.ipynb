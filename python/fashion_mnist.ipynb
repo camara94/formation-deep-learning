{
 "cells": [
  {
   "cell_type": "markdown",
   "id": "fa95e674",
   "metadata": {},
   "source": [
    "# L'analyse du dataset mnist en tensorflow "
   ]
  },
  {
   "cell_type": "markdown",
   "id": "f2acbc1d",
   "metadata": {},
   "source": [
    "## Importataion des packages"
   ]
  },
  {
   "cell_type": "code",
   "execution_count": 2,
   "id": "28c84577",
   "metadata": {},
   "outputs": [],
   "source": [
    "%matplotlib inline\n",
    "import matplotlib.pyplot as plt\n",
    "import seaborn as sns\n",
    "import tensorflow as tf\n",
    "from tensorflow import keras\n",
    "import numpy as np\n",
    "plt.style.use('ggplot')"
   ]
  },
  {
   "cell_type": "code",
   "execution_count": null,
   "id": "5950d48b",
   "metadata": {},
   "outputs": [],
   "source": []
  }
 ],
 "metadata": {
  "kernelspec": {
   "display_name": "Python 3",
   "language": "python",
   "name": "python3"
  },
  "language_info": {
   "codemirror_mode": {
    "name": "ipython",
    "version": 3
   },
   "file_extension": ".py",
   "mimetype": "text/x-python",
   "name": "python",
   "nbconvert_exporter": "python",
   "pygments_lexer": "ipython3",
   "version": "3.8.5"
  }
 },
 "nbformat": 4,
 "nbformat_minor": 5
}
